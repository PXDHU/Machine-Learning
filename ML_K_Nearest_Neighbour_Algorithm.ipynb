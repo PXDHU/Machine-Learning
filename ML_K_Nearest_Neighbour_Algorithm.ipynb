{
  "nbformat": 4,
  "nbformat_minor": 0,
  "metadata": {
    "colab": {
      "provenance": [],
      "include_colab_link": true
    },
    "kernelspec": {
      "name": "python3",
      "display_name": "Python 3"
    },
    "language_info": {
      "name": "python"
    }
  },
  "cells": [
    {
      "cell_type": "markdown",
      "metadata": {
        "id": "view-in-github",
        "colab_type": "text"
      },
      "source": [
        "<a href=\"https://colab.research.google.com/github/PXDHU/Machine-Learning/blob/main/ML_K_Nearest_Neighbour_Algorithm.ipynb\" target=\"_parent\"><img src=\"https://colab.research.google.com/assets/colab-badge.svg\" alt=\"Open In Colab\"/></a>"
      ]
    },
    {
      "cell_type": "markdown",
      "source": [
        "#K-Nearest Neighbour Algorithm\n"
      ],
      "metadata": {
        "id": "2kAxWSlomRkE"
      }
    },
    {
      "cell_type": "markdown",
      "source": [
        "###1. Implement K-NN classification algorithm with Euclidean and Manhattan Distance metrics. The program should be generic, should work for any k values on Iris dataset.\n",
        "-\tKeep 80% of samples for training and rest for testing\n",
        "-\tShow the results using both distance metrics.\n",
        "-\tCompare your results with Scikit/SKlearn Library function.\n"
      ],
      "metadata": {
        "id": "asZgg8YDmX3Q"
      }
    },
    {
      "cell_type": "code",
      "execution_count": null,
      "metadata": {
        "id": "1rfgo18-j98N"
      },
      "outputs": [],
      "source": [
        "from sklearn.datasets import load_iris\n",
        "from sklearn.model_selection import train_test_split\n",
        "from sklearn.neighbors import KNeighborsClassifier\n",
        "from sklearn.metrics import accuracy_score"
      ]
    },
    {
      "cell_type": "code",
      "source": [
        "class KNNClassifier:\n",
        "    def __init__(self, k=3, distance_metric='euclidean'):\n",
        "        self.k = k\n",
        "        self.distance_metric = distance_metric\n",
        "\n",
        "    def euclidean_distance(self, point1, point2):\n",
        "        return np.sqrt(np.sum((point1 - point2) ** 2))\n",
        "\n",
        "    def manhattan_distance(self, point1, point2):\n",
        "        return np.sum(np.abs(point1 - point2))\n",
        "\n",
        "    def _get_distance(self, point1, point2):\n",
        "        if self.distance_metric == 'euclidean':\n",
        "            return self.euclidean_distance(point1, point2)\n",
        "        elif self.distance_metric == 'manhattan':\n",
        "            return self.manhattan_distance(point1, point2)\n",
        "        else:\n",
        "            raise ValueError('Invalid distance metric specified.')\n",
        "\n",
        "    def _get_k_nearest_labels(self, X_train, y_train, test_point):\n",
        "        distances = []\n",
        "        for i in range(len(X_train)):\n",
        "            distance = self._get_distance(test_point, X_train[i])\n",
        "            distances.append((distance, y_train[i]))\n",
        "\n",
        "        distances.sort(key=lambda x: x[0])\n",
        "        k_nearest_labels = [label for _, label in distances[:self.k]]\n",
        "        return k_nearest_labels\n",
        "\n",
        "    def _get_majority_vote(self, labels):\n",
        "        label_counts = np.bincount(labels)\n",
        "        majority_vote = np.argmax(label_counts)\n",
        "        return majority_vote\n",
        "\n",
        "    def fit(self, X_train, y_train):\n",
        "        self.X_train = X_train\n",
        "        self.y_train = y_train\n",
        "\n",
        "    def predict(self, X_test):\n",
        "        y_pred = []\n",
        "        for test_point in X_test:\n",
        "            k_nearest_labels = self._get_k_nearest_labels(self.X_train, self.y_train, test_point)\n",
        "            majority_vote = self._get_majority_vote(k_nearest_labels)\n",
        "            y_pred.append(majority_vote)\n",
        "        return y_pred\n"
      ],
      "metadata": {
        "id": "BzP-3T03kBn8"
      },
      "execution_count": null,
      "outputs": []
    },
    {
      "cell_type": "code",
      "source": [
        "# Load the Iris dataset\n",
        "iris = load_iris()\n",
        "X = iris.data\n",
        "y = iris.target"
      ],
      "metadata": {
        "id": "IcocR7U6kx_X"
      },
      "execution_count": null,
      "outputs": []
    },
    {
      "cell_type": "code",
      "source": [
        "# Split the dataset into training and testing sets\n",
        "X_train, X_test, y_train, y_test = train_test_split(X, y, test_size=0.2, random_state=42)"
      ],
      "metadata": {
        "id": "oT4akIvokyoZ"
      },
      "execution_count": null,
      "outputs": []
    },
    {
      "cell_type": "code",
      "source": [
        "# Custom K-NN Classifier\n",
        "knn_classifier_custom = KNNClassifier(k=5, distance_metric='euclidean')\n",
        "knn_classifier_custom.fit(X_train, y_train)\n",
        "predictions_custom = knn_classifier_custom.predict(X_test)"
      ],
      "metadata": {
        "id": "L_ZtOre1lKkE"
      },
      "execution_count": null,
      "outputs": []
    },
    {
      "cell_type": "code",
      "source": [
        "# scikit-learn KNeighborsClassifier\n",
        "knn_classifier_sklearn = KNeighborsClassifier(n_neighbors=5, metric='euclidean')\n",
        "knn_classifier_sklearn.fit(X_train, y_train)\n",
        "predictions_sklearn = knn_classifier_sklearn.predict(X_test)"
      ],
      "metadata": {
        "id": "pOiYRp8rlWa7"
      },
      "execution_count": null,
      "outputs": []
    },
    {
      "cell_type": "code",
      "source": [
        "# Compare accuracy\n",
        "accuracy_custom = accuracy_score(y_test, predictions_custom)\n",
        "accuracy_sklearn = accuracy_score(y_test, predictions_sklearn)"
      ],
      "metadata": {
        "id": "ACbXv76-mHRB"
      },
      "execution_count": null,
      "outputs": []
    },
    {
      "cell_type": "code",
      "source": [
        "print(\"Custom K-NN Classifier accuracy:\", accuracy_custom)\n",
        "print(\"scikit-learn KNeighborsClassifier accuracy:\", accuracy_sklearn)"
      ],
      "metadata": {
        "colab": {
          "base_uri": "https://localhost:8080/"
        },
        "id": "lthYrKfamKJS",
        "outputId": "9c8fda86-7dc1-46e9-e2e1-ac4ad2475388"
      },
      "execution_count": null,
      "outputs": [
        {
          "output_type": "stream",
          "name": "stdout",
          "text": [
            "Custom K-NN Classifier accuracy: 1.0\n",
            "scikit-learn KNeighborsClassifier accuracy: 1.0\n"
          ]
        }
      ]
    },
    {
      "cell_type": "markdown",
      "source": [
        "###2. Modify your K-NN implementation for regression problem.\n",
        "-\tMake an auxiliary dataset from Iris.csv file consisting of only sepal length and sepal width. Assume you want to predict sepal width based on sepal length values.\n",
        "-\tKeep 80% of samples for training and rest for testing\n",
        "-\tShow the results using Euclidean metric and different K-values. \n",
        "-\tUse appropriate Scikit/SKlearn Library function to apply K-NN regression on the given dataset and compare the results with your implementation.\n"
      ],
      "metadata": {
        "id": "EBdmz2_5mNNW"
      }
    },
    {
      "cell_type": "code",
      "source": [
        "import numpy as np\n",
        "import pandas as pd\n",
        "from sklearn.model_selection import train_test_split\n",
        "from sklearn.neighbors import KNeighborsRegressor\n",
        "from sklearn.metrics import mean_squared_error"
      ],
      "metadata": {
        "id": "X_sfpwgcmtL6"
      },
      "execution_count": null,
      "outputs": []
    },
    {
      "cell_type": "code",
      "source": [
        "# Custom K-NN Regressor\n",
        "class KNNRegressor:\n",
        "    def __init__(self, k=3, distance_metric='euclidean'):\n",
        "        self.k = k\n",
        "        self.distance_metric = distance_metric\n",
        "\n",
        "    def euclidean_distance(self, point1, point2):\n",
        "        return np.sqrt(np.sum((point1 - point2) ** 2))\n",
        "\n",
        "    def manhattan_distance(self, point1, point2):\n",
        "        return np.sum(np.abs(point1 - point2))\n",
        "\n",
        "    def _get_distance(self, point1, point2):\n",
        "        if self.distance_metric == 'euclidean':\n",
        "            return self.euclidean_distance(point1, point2)\n",
        "        elif self.distance_metric == 'manhattan':\n",
        "            return self.manhattan_distance(point1, point2)\n",
        "        else:\n",
        "            raise ValueError('Invalid distance metric specified.')\n",
        "\n",
        "    def _get_k_nearest_values(self, X_train, y_train, test_point):\n",
        "        distances = []\n",
        "        for i in range(len(X_train)):\n",
        "            distance = self._get_distance(test_point, X_train[i])\n",
        "            distances.append((distance, y_train[i]))\n",
        "\n",
        "        distances.sort(key=lambda x: x[0])\n",
        "        k_nearest_values = [value for _, value in distances[:self.k]]\n",
        "        return k_nearest_values\n",
        "\n",
        "    def _get_average_value(self, values):\n",
        "        return np.mean(values)\n",
        "\n",
        "    def fit(self, X_train, y_train):\n",
        "        self.X_train = X_train\n",
        "        self.y_train = y_train\n",
        "\n",
        "    def predict(self, X_test):\n",
        "        y_pred = []\n",
        "        for test_point in X_test:\n",
        "            k_nearest_values = self._get_k_nearest_values(self.X_train, self.y_train, test_point)\n",
        "            average_value = self._get_average_value(k_nearest_values)\n",
        "            y_pred.append(average_value)\n",
        "        return y_pred"
      ],
      "metadata": {
        "id": "_oUhatR2mttY"
      },
      "execution_count": null,
      "outputs": []
    },
    {
      "cell_type": "code",
      "source": [
        "# Load the Iris dataset and extract sepal length and sepal width\n",
        "iris_df = pd.read_csv('Iris.csv')\n",
        "X = iris_df[['SepalLengthCm']].values\n",
        "y = iris_df['SepalWidthCm'].values\n"
      ],
      "metadata": {
        "id": "Q_pDp2I6mwc0"
      },
      "execution_count": null,
      "outputs": []
    },
    {
      "cell_type": "code",
      "source": [
        "# Split the dataset into training and testing sets\n",
        "X_train, X_test, y_train, y_test = train_test_split(X, y, test_size=0.2, random_state=42)\n"
      ],
      "metadata": {
        "id": "h048V9CfmzJy"
      },
      "execution_count": null,
      "outputs": []
    },
    {
      "cell_type": "code",
      "source": [
        "# Custom K-NN Regressor\n",
        "knn_regressor_custom = KNNRegressor(k=3, distance_metric='euclidean')\n",
        "knn_regressor_custom.fit(X_train, y_train)\n",
        "predictions_custom = knn_regressor_custom.predict(X_test)\n",
        "mse_custom = mean_squared_error(y_test, predictions_custom)"
      ],
      "metadata": {
        "id": "7MZ0hlj3m14p"
      },
      "execution_count": null,
      "outputs": []
    },
    {
      "cell_type": "code",
      "source": [
        "# scikit-learn KNeighborsRegressor\n",
        "knn_regressor_sklearn = KNeighborsRegressor(n_neighbors=3, metric='euclidean')\n",
        "knn_regressor_sklearn.fit(X_train, y_train)\n",
        "predictions_sklearn = knn_regressor_sklearn.predict(X_test)\n",
        "mse_sklearn = mean_squared_error(y_test, predictions_sklearn)"
      ],
      "metadata": {
        "id": "jMTPSxUam33W"
      },
      "execution_count": null,
      "outputs": []
    },
    {
      "cell_type": "code",
      "source": [
        "print(\"Custom K-NN Regressor MSE:\", mse_custom)\n",
        "print(\"scikit-learn KNeighborsRegressor MSE:\", mse_sklearn)"
      ],
      "metadata": {
        "colab": {
          "base_uri": "https://localhost:8080/"
        },
        "id": "Z9mkUFSLm5x_",
        "outputId": "26200ea4-f736-4f05-a28e-621b019d333b"
      },
      "execution_count": null,
      "outputs": [
        {
          "output_type": "stream",
          "name": "stdout",
          "text": [
            "Custom K-NN Regressor MSE: 0.13229629629629627\n",
            "scikit-learn KNeighborsRegressor MSE: 0.14244444444444443\n"
          ]
        }
      ]
    }
  ]
}