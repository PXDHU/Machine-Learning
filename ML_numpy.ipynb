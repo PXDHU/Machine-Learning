{
  "nbformat": 4,
  "nbformat_minor": 0,
  "metadata": {
    "colab": {
      "provenance": [],
      "include_colab_link": true
    },
    "kernelspec": {
      "name": "python3",
      "display_name": "Python 3"
    },
    "language_info": {
      "name": "python"
    }
  },
  "cells": [
    {
      "cell_type": "markdown",
      "metadata": {
        "id": "view-in-github",
        "colab_type": "text"
      },
      "source": [
        "<a href=\"https://colab.research.google.com/github/PXDHU/Machine-Learning/blob/main/ML_numpy.ipynb\" target=\"_parent\"><img src=\"https://colab.research.google.com/assets/colab-badge.svg\" alt=\"Open In Colab\"/></a>"
      ]
    },
    {
      "cell_type": "markdown",
      "source": [
        "# **Exploratory Data Analysis (EDA)**\n",
        "*   Load a dataset\n",
        "*   statistical summaries\n",
        "*   data visualization\n",
        "\n",
        "\n",
        "\n",
        "\n"
      ],
      "metadata": {
        "id": "_VcEQiq0unSt"
      }
    },
    {
      "cell_type": "markdown",
      "source": [
        "# Python Libraries for EDA\n",
        "\n",
        "* numpy\n",
        "* pandas\n",
        "* matplotlib\n",
        "\n",
        "\n",
        "\n"
      ],
      "metadata": {
        "id": "YTQCoBTDvtR8"
      }
    },
    {
      "cell_type": "markdown",
      "source": [
        "# Numpy\n",
        "NumPy is a library for the Python programming language, adding support for large, multi-dimensional arrays and matrices, along with a large collection of high-level mathematical functions to operate on these arrays"
      ],
      "metadata": {
        "id": "wHgLKC50wZlV"
      }
    },
    {
      "cell_type": "markdown",
      "source": [
        "# Array\n",
        "A numpy array is a grid of values, all of the same type, and is indexed by a tuple of nonnegative integers. The number of dimensions is the rank of the array; the shape of an array is a tuple of integers giving the size of the array along each dimension.\n",
        "\n",
        "In Numpy dimensions are called axes. The number of axes is rank. For example, the coordinates of a point in 3D space [1, 2, 1] is an array of rank 1, because it has one axis."
      ],
      "metadata": {
        "id": "TPrZXHYHw-g9"
      }
    },
    {
      "cell_type": "code",
      "execution_count": null,
      "metadata": {
        "id": "QjxGlP1luVCz",
        "colab": {
          "base_uri": "https://localhost:8080/"
        },
        "outputId": "1f016b35-fe49-4eeb-fdcb-ca889c5bf8f0"
      },
      "outputs": [
        {
          "output_type": "stream",
          "name": "stdout",
          "text": [
            "<class 'numpy.ndarray'>\n",
            "[1 2 3]\n",
            "(3,)\n",
            "1 2 3\n",
            "[5 2 3]\n",
            "(2, 3)\n",
            "1 2 4\n"
          ]
        }
      ],
      "source": [
        "import numpy as np\n",
        "\n",
        "a = np.array([1, 2, 3])   # Create a 1-D (rank 1) array from a list\n",
        "print(type(a))            # Prints \"<class 'numpy.ndarray'>\"\n",
        "print(a)                  # Prints array a\n",
        "print(a.shape)            # Prints \"(3,)\"  i.e. 1 dimenion with 3 elements\n",
        "print(a[0], a[1], a[2])   # Prints \"1 2 3\"\n",
        "a[0] = 5                  # Change an element of the array\n",
        "print(a)                  # Prints \"[5, 2, 3]\"\n",
        "\n",
        "bmat = np.array([[1,2,3],[4,5,6]])    # Create a 2D (rank 2) array\n",
        "print(bmat.shape)                     # Prints \"(2, 3)\" 2 dimensions \n",
        "print(bmat[0, 0], bmat[0, 1], bmat[1, 0])   # Prints \"1 2 4\""
      ]
    },
    {
      "cell_type": "code",
      "source": [
        "#create a 3D array of shape (3,2,2) i.e 3 2 x 2 matrices\n",
        "a = np.array([[[1,2],[3,4]],\n",
        "              [[2,3],[4,5]],\n",
        "              [[3,4],[5,6]]])\n",
        "print(a.shape)"
      ],
      "metadata": {
        "id": "kGJrBCmA-0MJ",
        "colab": {
          "base_uri": "https://localhost:8080/"
        },
        "outputId": "314242a0-dc2c-4ebb-c569-e7e9a6490da9"
      },
      "execution_count": null,
      "outputs": [
        {
          "output_type": "stream",
          "name": "stdout",
          "text": [
            "(3, 2, 2)\n"
          ]
        }
      ]
    },
    {
      "cell_type": "code",
      "source": [
        "print(a.dtype)\n"
      ],
      "metadata": {
        "id": "yo2XJ0sToGEb",
        "colab": {
          "base_uri": "https://localhost:8080/"
        },
        "outputId": "8467b6f0-121f-41a4-a887-95fa70341b4a"
      },
      "execution_count": null,
      "outputs": [
        {
          "output_type": "stream",
          "name": "stdout",
          "text": [
            "int64\n"
          ]
        }
      ]
    },
    {
      "cell_type": "code",
      "source": [
        "R=np.array([1.2,3.5])\n",
        "print(R.dtype)"
      ],
      "metadata": {
        "id": "4Fz-oypyoaDW",
        "colab": {
          "base_uri": "https://localhost:8080/"
        },
        "outputId": "c2dcb495-cec5-40fe-be15-b2bc1caff140"
      },
      "execution_count": null,
      "outputs": [
        {
          "output_type": "stream",
          "name": "stdout",
          "text": [
            "float64\n"
          ]
        }
      ]
    },
    {
      "cell_type": "code",
      "source": [
        "#creating float array\n",
        "Y=np.array([1.4, 4.5],dtype=np.float64)\n",
        "print(type(Y))\n",
        "print(Y.dtype)\n",
        "Y1=np.array([1.4, 4.5],dtype=float)\n",
        "print(type(Y1))\n",
        "print(Y1.dtype)"
      ],
      "metadata": {
        "id": "_meSscfc_nZD",
        "colab": {
          "base_uri": "https://localhost:8080/"
        },
        "outputId": "c8e1bc82-1ec2-458a-c9f7-478366bf8ba3"
      },
      "execution_count": null,
      "outputs": [
        {
          "output_type": "stream",
          "name": "stdout",
          "text": [
            "<class 'numpy.ndarray'>\n",
            "float64\n",
            "<class 'numpy.ndarray'>\n",
            "float64\n"
          ]
        }
      ]
    },
    {
      "cell_type": "markdown",
      "source": [
        "Extracting specific elements from the array"
      ],
      "metadata": {
        "id": "xeb4BvlzAvlH"
      }
    },
    {
      "cell_type": "code",
      "source": [
        "Z=np.array([[1,2,3,11],[4,5,6,23],[7,8,9,56]])\n",
        "print(Z)\n",
        "print(Z[0][1])\n",
        "print(Z[0,:]) # prints first row\n",
        "#write code to print first column \n",
        "print(Z[:,0])\n",
        "#write code to print submtarix first 2 rows and first 2 columns i.e [[1,2],[4,5]]\n",
        "print(Z[:2,:2])\n"
      ],
      "metadata": {
        "id": "9Vj9BhGVA2Gu",
        "colab": {
          "base_uri": "https://localhost:8080/"
        },
        "outputId": "6a68dae5-a878-4edc-cb12-1b03871cc962"
      },
      "execution_count": null,
      "outputs": [
        {
          "output_type": "stream",
          "name": "stdout",
          "text": [
            "[[ 1  2  3 11]\n",
            " [ 4  5  6 23]\n",
            " [ 7  8  9 56]]\n",
            "2\n",
            "[ 1  2  3 11]\n",
            "[1 4 7]\n",
            "[[1 2]\n",
            " [4 5]]\n"
          ]
        }
      ]
    },
    {
      "cell_type": "code",
      "source": [
        "#print all non-zero elments from matrix H\n",
        "H=np.array([[1,0,3,0],[0,4,0,6],[0,7,8,9]])\n",
        "print(H[np.nonzero(H)])"
      ],
      "metadata": {
        "id": "v01FUHU2A2Em",
        "colab": {
          "base_uri": "https://localhost:8080/"
        },
        "outputId": "2c688655-aaf4-41e6-dad0-8fc9a0abc5e7"
      },
      "execution_count": null,
      "outputs": [
        {
          "output_type": "stream",
          "name": "stdout",
          "text": [
            "[1 3 4 6 7 8 9]\n"
          ]
        }
      ]
    },
    {
      "cell_type": "markdown",
      "source": [
        "Numpy also provides many functions to create arrays:"
      ],
      "metadata": {
        "id": "DoNsC3zoylgF"
      }
    },
    {
      "cell_type": "markdown",
      "source": [
        "# Array indexing\n",
        "Numpy offers several ways to index into arrays."
      ],
      "metadata": {
        "id": "CMAHXKQFy47U"
      }
    },
    {
      "cell_type": "code",
      "source": [
        "a=np.array([[1,2,3,4],\n",
        "            [5,6,7,8],\n",
        "            [9,10,11,12]])\n",
        "\n",
        "print(a.shape)"
      ],
      "metadata": {
        "colab": {
          "base_uri": "https://localhost:8080/"
        },
        "id": "_gzrqu7s_vYz",
        "outputId": "5243645f-7370-4697-ac50-df7644d98720"
      },
      "execution_count": null,
      "outputs": [
        {
          "output_type": "stream",
          "name": "stdout",
          "text": [
            "(3, 4)\n"
          ]
        }
      ]
    },
    {
      "cell_type": "code",
      "source": [
        "# Create the following 2-D array with shape (3, 4)\n",
        "# [[ 1  2  3  4]\n",
        "#  [ 5  6  7  8]\n",
        "#  [ 9 10 11 12]]\n",
        "a = np.array([[1,2,3,4],\n",
        "            [5,6,7,8],\n",
        "            [9,10,11,12]])\n",
        "\n",
        "#take slice of 0 to 2 from array a \n",
        "b = a[0:2]  #0 to 2\n",
        "print(b)\n",
        "# A slice of an array is a view into the same data, so modifying it\n",
        "# will modify the original array.\n",
        "print(a[0, 1])   # Prints \"2\"\n",
        "b[0, 0] = 77     # b[0, 0] is the same piece of data as a[0, 1]\n",
        "print(a[0, 1])   # Prints \"77\"\n",
        "print(a)"
      ],
      "metadata": {
        "colab": {
          "base_uri": "https://localhost:8080/"
        },
        "id": "M3NTCpqWzHj0",
        "outputId": "d82f36db-ebc2-46bd-9be7-fa0499c46d13"
      },
      "execution_count": null,
      "outputs": [
        {
          "output_type": "stream",
          "name": "stdout",
          "text": [
            "[[1 2 3 4]\n",
            " [5 6 7 8]]\n",
            "2\n",
            "2\n",
            "[[77  2  3  4]\n",
            " [ 5  6  7  8]\n",
            " [ 9 10 11 12]]\n"
          ]
        }
      ]
    },
    {
      "cell_type": "code",
      "source": [
        "# Create a new array from which we will select elements\n",
        "a = np.array([[1,2,3], [4,5,6], [7,8,9], [10, 11, 12]])\n",
        "\n",
        "print(a)  # prints \"array([[ 1,  2,  3],\n",
        "          #                [ 4,  5,  6],\n",
        "          #                [ 7,  8,  9],\n",
        "          #                [10, 11, 12]])\"\n",
        "\n",
        "# Create an array of indices\n",
        "b = np.array([0, 2, 0, 1])\n",
        "\n",
        "# Select one element from each row of a using the indices in b , hint : use arange\n",
        "print(a[])  # Prints \"[ 1  6  7 11]\"\n",
        "\n"
      ],
      "metadata": {
        "id": "Z6GpkS03zlBT",
        "colab": {
          "base_uri": "https://localhost:8080/"
        },
        "outputId": "71615fea-8ca3-4bd2-e840-3e488d1f9334"
      },
      "execution_count": null,
      "outputs": [
        {
          "output_type": "stream",
          "name": "stdout",
          "text": [
            "[[ 1  2  3]\n",
            " [ 4  5  6]\n",
            " [ 7  8  9]\n",
            " [10 11 12]]\n",
            "[[1 2 3]\n",
            " [7 8 9]\n",
            " [1 2 3]\n",
            " [4 5 6]]\n"
          ]
        }
      ]
    },
    {
      "cell_type": "code",
      "source": [
        "a = np.array([[1,2], [3, 4], [5, 6]])\n",
        "\n",
        "bool_idx =      #write your code here to Find the elements of a that are bigger than 2;\n",
        "                     # this returns a numpy array of Booleans of the same\n",
        "                     # shape as a, where each slot of bool_idx tells\n",
        "                     # whether that element of a is > 2.\n",
        "\n",
        "print(bool_idx)      # Prints \"[[False False]\n",
        "                     #          [ True  True]\n",
        "                     #          [ True  True]]\"\n",
        "\n",
        "# We use boolean array indexing to construct a rank 1 array\n",
        "# consisting of the elements of a corresponding to the True values\n",
        "# of bool_idx\n",
        "print(a[bool_idx])  # Prints \"[3 4 5 6]\"\n",
        "\n",
        "# We can do all of the above in a single concise statement:\n",
        "print(a[a > 2])     # Prints \"[3 4 5 6]\""
      ],
      "metadata": {
        "id": "p-JTNVcOzzHM"
      },
      "execution_count": null,
      "outputs": []
    },
    {
      "cell_type": "markdown",
      "source": [
        "# Array Math"
      ],
      "metadata": {
        "id": "tJEbgltO0R5U"
      }
    },
    {
      "cell_type": "code",
      "source": [
        "X=np.array([1,2,3,4])\n",
        "X=X+2\n",
        "print(X)"
      ],
      "metadata": {
        "colab": {
          "base_uri": "https://localhost:8080/"
        },
        "id": "43KuOb27_QGW",
        "outputId": "a167d5de-9f07-4bdd-8a6f-727761f0d594"
      },
      "execution_count": null,
      "outputs": [
        {
          "output_type": "stream",
          "name": "stdout",
          "text": [
            "[3 4 5 6]\n"
          ]
        }
      ]
    },
    {
      "cell_type": "code",
      "source": [
        "x = np.array([[1,2],[3,4]], dtype=np.float64)\n",
        "y = np.array([[5,6],[7,8]], dtype=np.float64)\n",
        "\n",
        "# Elementwise sum; both produce the array\n",
        "# [[ 6.0  8.0]\n",
        "#  [10.0 12.0]]\n",
        "\n",
        "#write code here \n",
        "\n",
        "# Elementwise difference; both produce the array\n",
        "# [[-4.0 -4.0]\n",
        "#  [-4.0 -4.0]]\n",
        "\n",
        "#write code here \n",
        "\n",
        "# Elementwise product; both produce the array\n",
        "# [[ 5.0 12.0]\n",
        "#  [21.0 32.0]]\n",
        "\n",
        "#write code here \n",
        "\n",
        "\n",
        "# Elementwise square root; produces the array\n",
        "# [[ 1.          1.41421356]\n",
        "#  [ 1.73205081  2.        ]]\n",
        "#write your code here"
      ],
      "metadata": {
        "id": "cvMciGHi_NKQ"
      },
      "execution_count": null,
      "outputs": []
    },
    {
      "cell_type": "markdown",
      "source": [
        " How to represent missing values and infinite?\n",
        "\n",
        " Missing values can be represented using np.nan object, while np.inf represents infinite. Let’s place some in arr2d."
      ],
      "metadata": {
        "id": "nDFkXUs9CZbd"
      }
    },
    {
      "cell_type": "code",
      "source": [
        "list2 = [[1, 2, 3, 4],[3, 4, 5, 6], [5, 6, 7, 8]]\n",
        "arr2 = np.array(list2, dtype='float')\n",
        "# Insert a nan and an inf\n",
        "arr2[1,1] = np.nan  # not a number\n",
        "arr2[1,2] = np.inf  # infinite\n",
        "arr2"
      ],
      "metadata": {
        "id": "wDlc1Q4GCD-u",
        "colab": {
          "base_uri": "https://localhost:8080/"
        },
        "outputId": "380fbed9-cb54-4855-f93c-b04f9bcb7c45"
      },
      "execution_count": null,
      "outputs": [
        {
          "output_type": "execute_result",
          "data": {
            "text/plain": [
              "array([[ 1.,  2.,  3.,  4.],\n",
              "       [ 3., nan, inf,  6.],\n",
              "       [ 5.,  6.,  7.,  8.]])"
            ]
          },
          "metadata": {},
          "execution_count": 41
        }
      ]
    },
    {
      "cell_type": "code",
      "source": [
        "# Replace nan and inf with -1. Don't use arr2 == np.nan\n",
        "missing_bool = np.isnan(arr2) | np.isinf(arr2)\n",
        "arr2[missing_bool] = -1  \n",
        "arr2"
      ],
      "metadata": {
        "colab": {
          "base_uri": "https://localhost:8080/"
        },
        "id": "HyAClk7Kqocr",
        "outputId": "4fd6c014-fae9-4a47-be05-084bf4aed274"
      },
      "execution_count": null,
      "outputs": [
        {
          "output_type": "execute_result",
          "data": {
            "text/plain": [
              "array([[ 1.,  2.,  3.,  4.],\n",
              "       [ 3., -1., -1.,  6.],\n",
              "       [ 5.,  6.,  7.,  8.]])"
            ]
          },
          "metadata": {},
          "execution_count": 42
        }
      ]
    },
    {
      "cell_type": "markdown",
      "source": [
        "# Compute mean, min, max on the ndarray?"
      ],
      "metadata": {
        "id": "tFRruyZqqvFl"
      }
    },
    {
      "cell_type": "code",
      "source": [
        "a = np.array([[1,2,3], [4,5,6], [7,8,9], [10, 11, 12]])\n",
        "print(\"Mean value is: \", np.mean(a)) \n",
        "print(\"Max value is: \", np.max(a))\n",
        "print(\"Min value is: \", np.min(a))\n",
        "# Row wise and column wise min\n",
        "print(\"Column wise minimum: \", np.amin(a, axis=0)) #use np.amin\n",
        "print(\"Row wise minimum: \", np.amin(a, axis=1))\n"
      ],
      "metadata": {
        "id": "N56CDsyArFHm",
        "colab": {
          "base_uri": "https://localhost:8080/"
        },
        "outputId": "65254fa1-51c8-47e9-aa11-0cf6b269bcd1"
      },
      "execution_count": null,
      "outputs": [
        {
          "output_type": "stream",
          "name": "stdout",
          "text": [
            "Mean value is:  6.5\n",
            "Max value is:  12\n",
            "Min value is:  1\n",
            "Column wise minimum:  [1 2 3]\n",
            "Row wise minimum:  [ 1  4  7 10]\n"
          ]
        }
      ]
    },
    {
      "cell_type": "markdown",
      "source": [
        "# Copy array"
      ],
      "metadata": {
        "id": "8sSGu3GGrjRi"
      }
    },
    {
      "cell_type": "code",
      "source": [
        "# Assign portion of arr2 to arr2a. Doesn't really create a new array.\n",
        "arr2a = arr2[:2,:2]  \n",
        "arr2a[:1, :1] = 100  # 100 will reflect in arr2\n",
        "arr2"
      ],
      "metadata": {
        "colab": {
          "base_uri": "https://localhost:8080/"
        },
        "id": "144CU-2crh_g",
        "outputId": "b9eb5ac6-09a4-4e59-fd51-588c2912642b"
      },
      "execution_count": null,
      "outputs": [
        {
          "output_type": "execute_result",
          "data": {
            "text/plain": [
              "array([[100.,   2.,   3.,   4.],\n",
              "       [  3.,  -1.,  -1.,   6.],\n",
              "       [  5.,   6.,   7.,   8.]])"
            ]
          },
          "metadata": {},
          "execution_count": 24
        }
      ]
    },
    {
      "cell_type": "code",
      "source": [
        "# Copy portion of arr2 to arr2b\n",
        "arr2b = arr2[:2, :2].copy()\n",
        "arr2b[:1, :1] = 101  # 101 will not reflect in arr2\n",
        "arr2"
      ],
      "metadata": {
        "colab": {
          "base_uri": "https://localhost:8080/"
        },
        "id": "Ie-suXBorrwJ",
        "outputId": "ecb7a511-898f-46cd-836f-51106eb36411"
      },
      "execution_count": null,
      "outputs": [
        {
          "output_type": "execute_result",
          "data": {
            "text/plain": [
              "array([[100.,   2.,   3.,   4.],\n",
              "       [  3.,  -1.,  -1.,   6.],\n",
              "       [  5.,   6.,   7.,   8.]])"
            ]
          },
          "metadata": {},
          "execution_count": 25
        }
      ]
    },
    {
      "cell_type": "markdown",
      "source": [
        "# Reshaping and Flattening Multidimensional arrays\n",
        "\n",
        "Reshaping is changing the arrangement of items so that shape of the array changes while maintaining the same number of dimensions.\n",
        "\n",
        "Flattening, however, will convert a multi-dimensional array to a flat 1d array. And not any other shape."
      ],
      "metadata": {
        "id": "nGSio9CWr_RK"
      }
    },
    {
      "cell_type": "code",
      "source": [
        "# Reshape a 3x4 array to 4x3 array\n",
        "arr2.reshape(4, 3)"
      ],
      "metadata": {
        "colab": {
          "base_uri": "https://localhost:8080/"
        },
        "id": "0JKzIEykr-YD",
        "outputId": "9a695994-10c8-4a89-bbc0-a2b6c5b3d60f"
      },
      "execution_count": null,
      "outputs": [
        {
          "output_type": "execute_result",
          "data": {
            "text/plain": [
              "array([[ 1.,  2.,  3.],\n",
              "       [ 4.,  3., -1.],\n",
              "       [-1.,  6.,  5.],\n",
              "       [ 6.,  7.,  8.]])"
            ]
          },
          "metadata": {},
          "execution_count": 50
        }
      ]
    },
    {
      "cell_type": "code",
      "source": [
        "# Flatten it to a 1d array\n",
        "arr2.flatten()"
      ],
      "metadata": {
        "colab": {
          "base_uri": "https://localhost:8080/"
        },
        "id": "0HVloRFUscjS",
        "outputId": "e95f5b41-b87b-431f-c191-2a920ece3090"
      },
      "execution_count": null,
      "outputs": [
        {
          "output_type": "execute_result",
          "data": {
            "text/plain": [
              "array([ 1.,  2.,  3.,  4.,  3., -1., -1.,  6.,  5.,  6.,  7.,  8.])"
            ]
          },
          "metadata": {},
          "execution_count": 51
        }
      ]
    },
    {
      "cell_type": "markdown",
      "source": [
        "# Sequences, Random numbers\n",
        "The np.arange function comes handy to create customised number sequences as ndarray."
      ],
      "metadata": {
        "id": "RwXTfRj3sl_6"
      }
    },
    {
      "cell_type": "code",
      "source": [
        "# Lower limit is 0 be default\n",
        "print(np.arange(5))  \n",
        "\n",
        "# 0 to 9\n",
        "print(np.arange(0, 10))  \n",
        "\n",
        "# 0 to 9 with step of 2\n",
        "print(np.arange(0, 10, 2))  \n",
        "\n",
        "# 10 to 1, decreasing order\n",
        "print(np.arange(10, 0, -1))"
      ],
      "metadata": {
        "colab": {
          "base_uri": "https://localhost:8080/"
        },
        "id": "NAQwojZ7sqNP",
        "outputId": "95d65234-f5be-4508-94fb-6657937b7e3a"
      },
      "execution_count": null,
      "outputs": [
        {
          "output_type": "stream",
          "name": "stdout",
          "text": [
            "[0 1 2 3 4]\n",
            "[0 1 2 3 4 5 6 7 8 9]\n",
            "[0 2 4 6 8]\n",
            "[10  9  8  7  6  5  4  3  2  1]\n"
          ]
        }
      ]
    },
    {
      "cell_type": "code",
      "source": [
        "# One random number between [0,1)\n",
        "print(np.random.random())\n",
        "\n",
        "# Random numbers between [0,1) of shape 2,2\n",
        "print(np.random.random(size=[2,2]))"
      ],
      "metadata": {
        "colab": {
          "base_uri": "https://localhost:8080/"
        },
        "id": "H-KrcLpFtBO2",
        "outputId": "834bba38-5e96-44f7-b74d-f96cad9efc8b"
      },
      "execution_count": null,
      "outputs": [
        {
          "output_type": "stream",
          "name": "stdout",
          "text": [
            "0.21010774244258368\n",
            "[[0.4527399  0.87014264]\n",
            " [0.06368104 0.62431189]]\n"
          ]
        }
      ]
    },
    {
      "cell_type": "markdown",
      "source": [
        "# Get the unique items and the counts"
      ],
      "metadata": {
        "id": "23Z8d0B8thx8"
      }
    },
    {
      "cell_type": "code",
      "source": [
        "# Create random integers of size 10 between [0,10)\n",
        "np.random.seed(100)\n",
        "arr_rand = np.random.randint(0, 10, size=10)\n",
        "print(arr_rand)\n",
        "# Get the unique items and their counts\n",
        "uniqs, counts = np.unique(arr_rand, return_counts=True)\n",
        "print(\"Unique items : \", uniqs)\n",
        "print(\"Counts       : \", counts)"
      ],
      "metadata": {
        "colab": {
          "base_uri": "https://localhost:8080/"
        },
        "id": "F9QilKuOtkKD",
        "outputId": "cb264863-67ca-4256-a25c-22750790d930"
      },
      "execution_count": null,
      "outputs": [
        {
          "output_type": "stream",
          "name": "stdout",
          "text": [
            "[8 8 3 7 7 0 4 2 5 2]\n",
            "Unique items :  [0 2 3 4 5 7 8]\n",
            "Counts       :  [1 2 1 1 1 2 2]\n"
          ]
        }
      ]
    },
    {
      "cell_type": "markdown",
      "source": [
        "# Exercises"
      ],
      "metadata": {
        "id": "CPgoL1mpEabP"
      }
    },
    {
      "cell_type": "markdown",
      "source": [
        "1. Create two 3 x 4 arrays A and B; output an array in which every element is an element-wise sum of the arrays A and B"
      ],
      "metadata": {
        "id": "B-dLudJtEqpz"
      }
    },
    {
      "cell_type": "code",
      "source": [
        "#code for Ex1\n",
        "A = np.array([[1, 2, 3, 4], \n",
        "              [5, 6, 7, 8], \n",
        "              [9, 10, 11, 12]])\n",
        "B = np.array([[0, 1, 2, 3], \n",
        "              [4, 5, 6, 7], \n",
        "              [8, 9, 10, 11]])\n",
        "\n",
        "C = A + B\n",
        "\n",
        "print(C)"
      ],
      "metadata": {
        "id": "WLhGCoxAEfDU",
        "colab": {
          "base_uri": "https://localhost:8080/"
        },
        "outputId": "a751980d-ef18-4750-91c6-a8d30bb5fac5"
      },
      "execution_count": null,
      "outputs": [
        {
          "output_type": "stream",
          "name": "stdout",
          "text": [
            "[[ 1  3  5  7]\n",
            " [ 9 11 13 15]\n",
            " [17 19 21 23]]\n"
          ]
        }
      ]
    },
    {
      "cell_type": "markdown",
      "source": [
        "2. Create 4 x 4 identity matrix (use eye funciton)\n"
      ],
      "metadata": {
        "id": "XLE5uHe-FBcb"
      }
    },
    {
      "cell_type": "code",
      "source": [
        "#code for Ex2\n",
        "I = np.eye(4)\n",
        "\n",
        "print(I)"
      ],
      "metadata": {
        "id": "hfqCbz_xGcke",
        "colab": {
          "base_uri": "https://localhost:8080/"
        },
        "outputId": "7eb946ee-4b52-4e42-bb9d-fd1cee61f8e0"
      },
      "execution_count": null,
      "outputs": [
        {
          "output_type": "stream",
          "name": "stdout",
          "text": [
            "[[1. 0. 0. 0.]\n",
            " [0. 1. 0. 0.]\n",
            " [0. 0. 1. 0.]\n",
            " [0. 0. 0. 1.]]\n"
          ]
        }
      ]
    },
    {
      "cell_type": "markdown",
      "source": [
        "3. create a 1D array whose values are from sequence 1 to 27. Convert this array into 3D array i.e. 3 x 3 x 3"
      ],
      "metadata": {
        "id": "i1fLyoaNFZdD"
      }
    },
    {
      "cell_type": "code",
      "source": [
        "#code for Ex3\n",
        "arr = np.arange(1, 28)\n",
        "arr_3d = arr.reshape((3, 3, 3))\n",
        "\n",
        "print(arr_3d)"
      ],
      "metadata": {
        "id": "wBMF8QWYGhI5",
        "colab": {
          "base_uri": "https://localhost:8080/"
        },
        "outputId": "f29af1f6-a5b3-49fa-b07c-c580bfe9d590"
      },
      "execution_count": null,
      "outputs": [
        {
          "output_type": "stream",
          "name": "stdout",
          "text": [
            "[[[ 1  2  3]\n",
            "  [ 4  5  6]\n",
            "  [ 7  8  9]]\n",
            "\n",
            " [[10 11 12]\n",
            "  [13 14 15]\n",
            "  [16 17 18]]\n",
            "\n",
            " [[19 20 21]\n",
            "  [22 23 24]\n",
            "  [25 26 27]]]\n"
          ]
        }
      ]
    },
    {
      "cell_type": "markdown",
      "source": [
        "4. create a 3 x 3 float array Z and concert Convert all the elements of Z from float to integer datatype"
      ],
      "metadata": {
        "id": "eE3VzRQiGFA6"
      }
    },
    {
      "cell_type": "code",
      "source": [
        "#code for Ex4\n",
        "Z = np.array([[1.1, 2.2, 3.3], [4.4, 5.5, 6.6], [7.7, 8.8, 9.9]])\n",
        "Z_int = Z.astype(int)\n",
        "\n",
        "print(Z_int)"
      ],
      "metadata": {
        "id": "kq-OJQ2hGjvr",
        "colab": {
          "base_uri": "https://localhost:8080/"
        },
        "outputId": "7e8731c7-f66d-490d-f461-d0cacd831823"
      },
      "execution_count": null,
      "outputs": [
        {
          "output_type": "stream",
          "name": "stdout",
          "text": [
            "[[1 2 3]\n",
            " [4 5 6]\n",
            " [7 8 9]]\n"
          ]
        }
      ]
    },
    {
      "cell_type": "markdown",
      "source": [
        "5. a1 = np.array([[1,2,3],\n",
        "               [4,5,6]])\n",
        "\n",
        "a2 = np.array([[7,8,9],\n",
        "               [10,11,12]])\n",
        "\n",
        "               stack a1 and a2 horizontally i.e. output array should be as follows\n",
        "               [[ 1  2  3  7  8  9]\n",
        "               [ 4  5  6 10 11 12]]"
      ],
      "metadata": {
        "id": "zkW7KK8uGagR"
      }
    },
    {
      "cell_type": "markdown",
      "source": [
        "5. \n",
        "\n",
        "\n",
        "> a1 = np.array([1,2,3],[4,6,7])\n",
        "\n",
        "> a2 = np.array([7,8,9],[10,11,12])\n",
        "\n",
        "stack a1 and a2 horizontally i.e. output array should be as follows\n",
        "[[ 1  2  3  7  8  9]\n",
        " [ 4  5  6 10 11 12]]\n"
      ],
      "metadata": {
        "id": "6xlb5CUnstl_"
      }
    },
    {
      "cell_type": "code",
      "source": [
        "#code for Ex5\n",
        "a1 = np.array([[1, 2, 3],\n",
        "               [4, 5, 6]])\n",
        "a2 = np.array([[7, 8, 9],\n",
        "               [10, 11, 12]])\n",
        "\n",
        "result = np.hstack((a1, a2))\n",
        "\n",
        "print(result)"
      ],
      "metadata": {
        "id": "g2aqOngYG1NP",
        "colab": {
          "base_uri": "https://localhost:8080/"
        },
        "outputId": "6f818a48-8741-4ddf-c78e-00b0a152694a"
      },
      "execution_count": null,
      "outputs": [
        {
          "output_type": "stream",
          "name": "stdout",
          "text": [
            "[[ 1  2  3  7  8  9]\n",
            " [ 4  5  6 10 11 12]]\n"
          ]
        }
      ]
    },
    {
      "cell_type": "markdown",
      "source": [
        "6. stack a1 and a2 vertically \n",
        "[[ 1  2]\n",
        " [ 3  4]\n",
        " [ 5  6]\n",
        " [ 7  8]\n",
        " [ 9 10]\n",
        " [10 11]]"
      ],
      "metadata": {
        "id": "mVUmETuSG1-L"
      }
    },
    {
      "cell_type": "code",
      "source": [
        "#code for Ex6\n",
        "a1 = np.array([[1, 2],\n",
        "               [3, 4],\n",
        "               [5, 6]])\n",
        "a2 = np.array([[7, 8],\n",
        "               [9, 10],\n",
        "               [10, 11]])\n",
        "\n",
        "result = np.vstack((a1, a2))\n",
        "\n",
        "print(result)"
      ],
      "metadata": {
        "id": "zOpEQenpHELE",
        "colab": {
          "base_uri": "https://localhost:8080/"
        },
        "outputId": "8a9df387-0cbf-4eb3-a492-72cb9af221f3"
      },
      "execution_count": null,
      "outputs": [
        {
          "output_type": "stream",
          "name": "stdout",
          "text": [
            "[[ 1  2]\n",
            " [ 3  4]\n",
            " [ 5  6]\n",
            " [ 7  8]\n",
            " [ 9 10]\n",
            " [10 11]]\n"
          ]
        }
      ]
    },
    {
      "cell_type": "markdown",
      "source": [
        "7. Create a numpy array for the even number sequence from 1 to 100"
      ],
      "metadata": {
        "id": "j6sFEDAyJupL"
      }
    },
    {
      "cell_type": "code",
      "source": [
        "even_seq = np.arange(2, 101, 2)\n",
        "\n",
        "print(even_seq)\n"
      ],
      "metadata": {
        "id": "j5T_PtIfKDak",
        "colab": {
          "base_uri": "https://localhost:8080/"
        },
        "outputId": "1b76e8ce-e0e0-418f-b42c-0d55b1510b60"
      },
      "execution_count": null,
      "outputs": [
        {
          "output_type": "stream",
          "name": "stdout",
          "text": [
            "[  2   4   6   8  10  12  14  16  18  20  22  24  26  28  30  32  34  36\n",
            "  38  40  42  44  46  48  50  52  54  56  58  60  62  64  66  68  70  72\n",
            "  74  76  78  80  82  84  86  88  90  92  94  96  98 100]\n"
          ]
        }
      ]
    },
    {
      "cell_type": "markdown",
      "source": [
        "8. Find the indexes in which the elements in the 2 arrays A1 and A2 match\n",
        "A1 = np.array([10,2,3,4,5])\n",
        "\n",
        "A2 = np.array([10,3,2,4,5])"
      ],
      "metadata": {
        "id": "qlO6xj3yKD4f"
      }
    },
    {
      "cell_type": "code",
      "source": [
        "A1 = np.array([10, 2, 3, 4, 5])\n",
        "A2 = np.array([10, 3, 2, 4, 5])\n",
        "\n",
        "match_indexes = np.where(A1 == A2)\n",
        "\n",
        "print(match_indexes)"
      ],
      "metadata": {
        "id": "Dh-GbRveKiut",
        "colab": {
          "base_uri": "https://localhost:8080/"
        },
        "outputId": "743d04bd-4704-430e-9e54-5cb6c6c260da"
      },
      "execution_count": null,
      "outputs": [
        {
          "output_type": "stream",
          "name": "stdout",
          "text": [
            "(array([0, 3, 4]),)\n"
          ]
        }
      ]
    },
    {
      "cell_type": "markdown",
      "source": [
        "9. create a 2-by-3 matrix with each and every value equal to 5"
      ],
      "metadata": {
        "id": "flB7ZgxhKjEf"
      }
    },
    {
      "cell_type": "code",
      "source": [
        "matrix = np.full((2, 3), 5)\n",
        "\n",
        "print(matrix)"
      ],
      "metadata": {
        "id": "YMzp-DbcKw5s",
        "colab": {
          "base_uri": "https://localhost:8080/"
        },
        "outputId": "e97ff335-1f1c-470b-ed92-9511b2684336"
      },
      "execution_count": null,
      "outputs": [
        {
          "output_type": "stream",
          "name": "stdout",
          "text": [
            "[[5 5 5]\n",
            " [5 5 5]]\n"
          ]
        }
      ]
    },
    {
      "cell_type": "markdown",
      "source": [
        "Output a 5-by-5 array of random integers between 0 (inclusive) and 10 (exclusive); Also print its transpose"
      ],
      "metadata": {
        "id": "zUcYJglNKxHN"
      }
    },
    {
      "cell_type": "code",
      "source": [
        "arr = np.random.randint(0, 10, size=(5, 5))\n",
        "\n",
        "\n",
        "print(arr)\n",
        "\n",
        "\n",
        "\n",
        "print(arr.T)"
      ],
      "metadata": {
        "id": "LHOQrz0_LEa1",
        "colab": {
          "base_uri": "https://localhost:8080/"
        },
        "outputId": "8276a775-c6a6-4a74-e650-d4f7769037a6"
      },
      "execution_count": null,
      "outputs": [
        {
          "output_type": "stream",
          "name": "stdout",
          "text": [
            "[[0 9 6 2 4]\n",
            " [1 5 3 4 4]\n",
            " [3 7 1 1 7]\n",
            " [7 0 2 9 9]\n",
            " [3 2 5 8 1]]\n",
            "[[0 1 3 7 3]\n",
            " [9 5 7 0 2]\n",
            " [6 3 1 2 5]\n",
            " [2 4 1 9 8]\n",
            " [4 4 7 9 1]]\n"
          ]
        }
      ]
    },
    {
      "cell_type": "markdown",
      "source": [
        "Output a 3-by-3 array of random numbers following normal distribution"
      ],
      "metadata": {
        "id": "kbVQhWs9LEvy"
      }
    },
    {
      "cell_type": "code",
      "source": [
        "arr = np.random.normal(size=(3, 3))\n",
        "\n",
        "print(arr)"
      ],
      "metadata": {
        "id": "6m2dLOaeLMOs",
        "colab": {
          "base_uri": "https://localhost:8080/"
        },
        "outputId": "eae9948a-444c-4f58-bf71-ad64bce84f34"
      },
      "execution_count": null,
      "outputs": [
        {
          "output_type": "stream",
          "name": "stdout",
          "text": [
            "[[-2.07241186 -1.29543984 -0.46402358]\n",
            " [-0.05702664  0.27592974  1.49451522]\n",
            " [ 0.56682064 -2.30337426  1.37700072]]\n"
          ]
        }
      ]
    }
  ]
}